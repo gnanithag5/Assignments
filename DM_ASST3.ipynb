{
  "nbformat": 4,
  "nbformat_minor": 0,
  "metadata": {
    "colab": {
      "provenance": [],
      "authorship_tag": "ABX9TyM4ra7O4RULLrk58x2xqVM5"
    },
    "kernelspec": {
      "name": "python3",
      "display_name": "Python 3"
    },
    "language_info": {
      "name": "python"
    }
  },
  "cells": [
    {
      "cell_type": "code",
      "source": [
        "import numpy as np\n",
        "\n",
        "# Given points\n",
        "points = np.array([\n",
        "    (1,1), (3,1), (2,2), (1,3), (3,3), (7,1), (9,1), (8,2), (7,3), (9,3), (4,7), (6,7), (5,8), (4,9), (6,9)\n",
        "])\n",
        "\n",
        "# Step 1: Initialize S by finding the object with the minimal sum of distances\n",
        "min_index = 0\n",
        "min_distance_sum = float('inf')\n",
        "\n",
        "for i in range(len(points)):\n",
        "    distance_sum = sum(np.sqrt(np.sum((points[i] - points[j]) ** 2)) for j in range(len(points)) if j != i)\n",
        "    if distance_sum < min_distance_sum:\n",
        "        min_distance_sum = distance_sum\n",
        "        min_index = i\n",
        "\n",
        "# S (selected medoids) and U (unselected objects)\n",
        "S = {min_index}\n",
        "U = {i for i in range(len(points)) if i != min_index}\n",
        "\n",
        "print(f\"Initial medoid index: {min_index}, Medoid point: {points[min_index]}\")\n",
        "print(f\"Set S (medoids): {S}\")\n",
        "print(f\"Set U (unselected objects): {U}\")\n"
      ],
      "metadata": {
        "colab": {
          "base_uri": "https://localhost:8080/"
        },
        "id": "93-EVOR3sgEL",
        "outputId": "f279c2dc-c7ed-4867-912c-9d33ef5b6e04"
      },
      "execution_count": null,
      "outputs": [
        {
          "output_type": "stream",
          "name": "stdout",
          "text": [
            "Initial medoid index: 4, Medoid point: [3 3]\n",
            "Set S (medoids): {4}\n",
            "Set U (unselected objects): {0, 1, 2, 3, 5, 6, 7, 8, 9, 10, 11, 12, 13, 14}\n"
          ]
        }
      ]
    },
    {
      "cell_type": "code",
      "source": [
        "# Step 2: Compute D and E for each unselected object\n",
        "D = np.zeros(len(points))\n",
        "E = np.zeros(len(points))\n",
        "\n",
        "for j in U:\n",
        "    # Calculate distances to all selected medoids in S\n",
        "    distances = [np.sqrt(np.sum((points[j] - points[s]) ** 2)) for s in S]\n",
        "    D[j] = min(distances)  # Closest distance\n",
        "    # Check if there's more than one selected medoid to get the second closest distance\n",
        "    if len(distances) > 1:\n",
        "        E[j] = sorted(distances)[1]  # Second closest distance\n",
        "    else:\n",
        "        E[j] = float('inf')  # Set to infinity if no second closest exists\n",
        "\n",
        "print(f\"Dissimilarities D: {D}\")\n",
        "print(f\"Dissimilarities E: {E}\")\n"
      ],
      "metadata": {
        "colab": {
          "base_uri": "https://localhost:8080/"
        },
        "id": "QWYEnYcPszk0",
        "outputId": "ea8a3ef4-f31e-4302-995e-02fd2fb40dd3"
      },
      "execution_count": null,
      "outputs": [
        {
          "output_type": "stream",
          "name": "stdout",
          "text": [
            "Dissimilarities D: [2.82842712 2.         1.41421356 2.         0.         4.47213595\n",
            " 6.32455532 5.09901951 4.         6.         4.12310563 5.\n",
            " 5.38516481 6.08276253 6.70820393]\n",
            "Dissimilarities E: [inf inf inf inf  0. inf inf inf inf inf inf inf inf inf inf]\n"
          ]
        }
      ]
    },
    {
      "cell_type": "code",
      "source": [
        "# Step 3: Evaluate a candidate for inclusion in the set S\n",
        "# Let's choose a candidate from U for demonstration purposes\n",
        "i = next(iter(U))  # Take the first element from U\n",
        "\n",
        "C = {}\n",
        "for j in U - {i}:\n",
        "    Dj = D[i]\n",
        "    #print(Dj)\n",
        "    dji = np.sqrt(np.sum((points[j] - points[i]) ** 2))\n",
        "    #print(dji)\n",
        "    if Dj > dji:\n",
        "        C[j] = max(Dj - dji, 0)\n",
        "    else:\n",
        "        C[j] = 0\n",
        "    #print(C[j])\n",
        "\n",
        "total_gain = sum(C.values())\n",
        "\n",
        "print(f\"Selected candidate index: {i}, Point: {points[i]}\")\n",
        "print(f\"Contribution C: {C}\")\n",
        "print(f\"Total gain from adding candidate: {total_gain}\")\n"
      ],
      "metadata": {
        "colab": {
          "base_uri": "https://localhost:8080/"
        },
        "id": "qTryBZJdvreh",
        "outputId": "d86bdbd4-6fa9-4c8c-ac46-3defbf1751b7"
      },
      "execution_count": null,
      "outputs": [
        {
          "output_type": "stream",
          "name": "stdout",
          "text": [
            "Selected candidate index: 0, Point: [1 1]\n",
            "Contribution C: {1: 0.8284271247461903, 2: 1.4142135623730951, 3: 0.8284271247461903, 5: 0, 6: 0, 7: 0, 8: 0, 9: 0, 10: 0, 11: 0, 12: 0, 13: 0, 14: 0}\n",
            "Total gain from adding candidate: 3.071067811865476\n"
          ]
        }
      ]
    },
    {
      "cell_type": "code",
      "source": [
        "# Step 4: Select the best candidate from U and return gains for each point\n",
        "gains = []  # List to store tuples of (index, gain)\n",
        "\n",
        "for i in U:\n",
        "    # Evaluate each candidate\n",
        "    #print(i)\n",
        "    C = {}\n",
        "    #print(C)\n",
        "    for j in U - {i}:\n",
        "        #print(j)\n",
        "        Dj = D[i]  # Use D[candidate] as Dj\n",
        "        #print(Dj)\n",
        "        dji = np.sqrt(np.sum((points[j] - points[i]) ** 2))  # Distance between j and i\n",
        "        #print(dji)\n",
        "        if Dj > dji:\n",
        "            C[j] = max(Dj - dji, 0)\n",
        "        else:\n",
        "            C[j] = 0\n",
        "        #print(C[j])\n",
        "    gain = sum(C.values())\n",
        "    gains.append((i, gain))  # Store the index and gain\n",
        "\n",
        "# Find the best candidate based on the maximum gain\n",
        "best_candidate = max(gains, key=lambda x: x[1])\n",
        "print(best_candidate)\n",
        "\n",
        "print(f\"All gains for candidates: {gains}\")\n",
        "print(f\"Best candidate index: {best_candidate[0]}, Point: {points[best_candidate[0]]}, Gain: {best_candidate[1]}\")"
      ],
      "metadata": {
        "colab": {
          "base_uri": "https://localhost:8080/"
        },
        "id": "G5PkyVow1Azl",
        "outputId": "9fded4a8-e080-4863-81ee-2e43e09be019"
      },
      "execution_count": null,
      "outputs": [
        {
          "output_type": "stream",
          "name": "stdout",
          "text": [
            "(14, 19.21561644507934)\n",
            "All gains for candidates: [(0, 3.071067811865476), (1, 0.5857864376269049), (2, 0), (3, 0.5857864376269049), (5, 10.118039087878612), (6, 17.38013591456451), (7, 14.739223804878758), (8, 7.757359312880714), (9, 16.757359312880716), (10, 8.249781815351357), (11, 12.634253687263055), (12, 15.883804979045635), (13, 16.088409434073593), (14, 19.21561644507934)]\n",
            "Best candidate index: 14, Point: [6 9], Gain: 19.21561644507934\n"
          ]
        }
      ]
    },
    {
      "cell_type": "code",
      "source": [
        "# Step 5: Update S and U, and recompute D and E after adding the best candidate\n",
        "if best_candidate is not None:\n",
        "    # Add the index of the best candidate to S\n",
        "    S.add(best_candidate[0])  # Add the index\n",
        "    U.remove(best_candidate[0])  # Remove the index from U\n",
        "\n",
        "    # Recompute D for each remaining unselected point in U\n",
        "    for j in U:\n",
        "        distances = [np.sqrt(np.sum((points[j] - points[s]) ** 2)) for s in S]\n",
        "        D[j] = min(distances)\n",
        "        if len(distances) > 1:\n",
        "            E[j] = sorted(distances)[1]\n",
        "        else:\n",
        "            E[j] = float('inf')\n",
        "\n",
        "# Print updated S and U\n",
        "print(f\"Updated S (medoids): {S}\")\n",
        "print(f\"Updated U (remaining points): {U}\")\n",
        "print(f\"Best candidate index: {best_candidate[0]}, Point: {points[best_candidate[0]]}, Gain: {best_candidate[1]}\")"
      ],
      "metadata": {
        "colab": {
          "base_uri": "https://localhost:8080/"
        },
        "id": "N3dVvfPB6h68",
        "outputId": "a4d10d0c-4bda-47b7-ad16-501f2d6504b2"
      },
      "execution_count": null,
      "outputs": [
        {
          "output_type": "stream",
          "name": "stdout",
          "text": [
            "Updated S (medoids): {4, 14}\n",
            "Updated U (remaining points): {0, 1, 2, 3, 5, 6, 7, 8, 9, 10, 11, 12, 13}\n",
            "Best candidate index: 14, Point: [6 9], Gain: 19.21561644507934\n"
          ]
        }
      ]
    },
    {
      "cell_type": "code",
      "source": [
        "# D and E initialization\n",
        "D = np.zeros(len(points))\n",
        "E = np.zeros(len(points))\n",
        "\n",
        "# Initialize D and E for the unselected objects\n",
        "for j in U:\n",
        "    distances = [np.sqrt(np.sum((points[j] - points[s]) ** 2)) for s in S]\n",
        "    D[j] = min(distances)\n",
        "    #print(D[j]) #calculated here D[j] for all 10 points\n",
        "    if len(distances) > 1:\n",
        "        E[j] = sorted(distances)[1]\n",
        "    else:\n",
        "        E[j] = float('inf')\n",
        "    #print(E[j])\n",
        "\n",
        "# SWAP phase\n",
        "while True:\n",
        "    min_Tih = float('inf')\n",
        "    best_pair = None\n",
        "\n",
        "    # Step 1: Iterate over each pair (i, h)\n",
        "    for i in S:\n",
        "        for h in U:\n",
        "            #print(h)\n",
        "            K = {}  # Contributions for each j\n",
        "\n",
        "            for j in U - {h}:\n",
        "                #print(U)\n",
        "                #print(j)\n",
        "                #print(i)\n",
        "                #print(h)\n",
        "                dji = np.sqrt(np.sum((points[j] - points[i]) ** 2))\n",
        "                djh = np.sqrt(np.sum((points[j] - points[h]) ** 2))\n",
        "                #print(D[j])\n",
        "                #print(E[j])\n",
        "                #print(dji)\n",
        "                #print(djh)\n",
        "                if dji > D[j]:\n",
        "                    if djh >= D[j]:\n",
        "                        K[j] = 0\n",
        "                    else:  # djh < D[j]\n",
        "                        K[j] = djh - D[j]\n",
        "                elif dji == D[j]:\n",
        "                    if djh < E[j]:\n",
        "                        K[j] = djh - D[j]\n",
        "                    else:  # djh >= E[j]\n",
        "                        K[j] = E[j] - D[j]\n",
        "                #print(K)\n",
        "\n",
        "            # Total result of the swap\n",
        "            Tih = sum(K.values())\n",
        "            #print(Tih)\n",
        "\n",
        "            # Select the best pair (i, h) with the minimum Tih\n",
        "            if Tih < min_Tih:\n",
        "                min_Tih = Tih\n",
        "                best_pair = (i, h)\n",
        "            #print(best_pair)\n",
        "\n",
        "    # Output results for this iteration\n",
        "    if best_pair is not None and min_Tih < 0:\n",
        "        i, h = best_pair\n",
        "\n",
        "        # Perform the swap\n",
        "        S.remove(i)\n",
        "        S.add(h)\n",
        "\n",
        "        # Update D and E for all objects\n",
        "        for p in U.union(S):\n",
        "            #print(U.union(S))\n",
        "            #print(p)\n",
        "            distances = [np.sqrt(np.sum((points[p] - points[s]) ** 2)) for s in S]\n",
        "            #print(distances)\n",
        "            D[p] = min(distances)\n",
        "            #print(D[p])\n",
        "            if len(distances) > 1:\n",
        "                E[p] = sorted(distances)[1]\n",
        "            else:\n",
        "                E[p] = float('inf')\n",
        "            #print(E[p])\n",
        "        print(f\"Swapped medoid {i} with {h}. New S: {S}\")\n",
        "    else:\n",
        "        # No beneficial swap found, exit the loop\n",
        "        break\n",
        "\n",
        "# Final set of medoids S\n",
        "print(f\"Final medoids after swapping: {S}\")"
      ],
      "metadata": {
        "colab": {
          "base_uri": "https://localhost:8080/"
        },
        "id": "q-FIdumT-L2i",
        "outputId": "f282d13b-d8d8-4426-e00f-acf85bf25b5c"
      },
      "execution_count": null,
      "outputs": [
        {
          "output_type": "stream",
          "name": "stdout",
          "text": [
            "Swapped medoid 14 with 7. New S: {4, 7}\n",
            "Final medoids after swapping: {4, 7}\n"
          ]
        }
      ]
    },
    {
      "cell_type": "code",
      "source": [
        "# Step 6: Repeat until we have k medoids\n",
        "k = int(input())  # You can change this to select a different number of medoids\n",
        "while len(S) < k:\n",
        "    best_gain = -1\n",
        "    best_candidate = None\n",
        "\n",
        "    for i in U:\n",
        "        # Evaluate each candidate\n",
        "        C = {}\n",
        "        for j in U - {i}:\n",
        "            Dj = D[j]\n",
        "            dji = np.sqrt(np.sum((points[j] - points[i]) ** 2))\n",
        "            if Dj > dji:\n",
        "                C[j] = max(Dj - dji, 0)\n",
        "            else:\n",
        "                C[j] = 0\n",
        "\n",
        "        gain = sum(C.values())\n",
        "\n",
        "        if gain > best_gain:\n",
        "            best_gain = gain\n",
        "            best_candidate = i\n",
        "\n",
        "    if best_candidate is not None:\n",
        "        S.add(best_candidate)\n",
        "        U.remove(best_candidate)\n",
        "\n",
        "        # Recompute D after updating S and U\n",
        "        D = np.zeros(len(points))\n",
        "        for j in U:\n",
        "            D[j] = min(np.sqrt(np.sum((points[j] - points[s]) ** 2)) for s in S)\n",
        "\n",
        "print(f\"Final set of selected medoids: {S}\")\n",
        "print(f\"Final medoid points: {[points[i] for i in S]}\")\n"
      ],
      "metadata": {
        "colab": {
          "base_uri": "https://localhost:8080/"
        },
        "id": "XssG7PXunRHA",
        "outputId": "88d2e58f-80cd-4399-a900-7e515f4fab1e"
      },
      "execution_count": null,
      "outputs": [
        {
          "output_type": "stream",
          "name": "stdout",
          "text": [
            "3\n",
            "Final set of selected medoids: {10, 4, 7}\n",
            "Final medoid points: [array([4, 7]), array([3, 3]), array([8, 2])]\n"
          ]
        }
      ]
    },
    {
      "cell_type": "code",
      "source": [
        "import numpy as np\n",
        "\n",
        "# Given points\n",
        "points = np.array([\n",
        "    (1, 1), (3, 1), (2, 2), (1, 3), (3, 3), (7, 1), (9, 1), (8, 2), (7, 3),\n",
        "    (9, 3), (4, 7), (6, 7), (5, 8), (4, 9), (6, 9)\n",
        "])\n",
        "\n",
        "# Function to calculate Euclidean distance\n",
        "def euclidean_distance(p1, p2):\n",
        "    return np.sqrt(np.sum((p1 - p2) ** 2))\n",
        "\n",
        "# Function to find k medoids\n",
        "def find_k_medoids(points, k):\n",
        "    # Step 1: Initialize S by finding the first medoid with the minimal sum of distances\n",
        "    min_index = 0\n",
        "    min_distance_sum = float('inf')\n",
        "\n",
        "    for i in range(len(points)):\n",
        "        distance_sum = sum(euclidean_distance(points[i], points[j]) for j in range(len(points)) if j != i)\n",
        "        if distance_sum < min_distance_sum:\n",
        "            min_distance_sum = distance_sum\n",
        "            min_index = i\n",
        "\n",
        "    # Initialize S with the first medoid and U with remaining points\n",
        "    S = {min_index}\n",
        "    U = {i for i in range(len(points)) if i != min_index}\n",
        "\n",
        "    print(f\"Initial medoid index: {min_index}, Medoid point: {points[min_index]}\")\n",
        "    print('-' * 50)\n",
        "\n",
        "\n",
        "    # Iteratively find the next medoids until we have k medoids\n",
        "    while len(S) < k:\n",
        "        D = np.zeros(len(points))  # Dissimilarity to closest selected medoid\n",
        "        E = np.zeros(len(points))  # Dissimilarity to second closest selected medoid\n",
        "\n",
        "        # Step 2: Compute D and E for each unselected object\n",
        "        for j in U:\n",
        "            distances = [euclidean_distance(points[j], points[s]) for s in S]\n",
        "            D[j] = min(distances)  # Closest distance\n",
        "            E[j] = sorted(distances)[1] if len(distances) > 1 else float('inf')  # Second closest distance\n",
        "\n",
        "        #print(f\"Dissimilarities D: {D}\")\n",
        "        #print(f\"Dissimilarities E: {E}\")\n",
        "\n",
        "        # Step 3: Select the best candidate from U and return gains for each point\n",
        "        gains = []  # List to store tuples of (index, gain)\n",
        "\n",
        "        for i in U:\n",
        "            C = {}\n",
        "            for j in U - {i}:\n",
        "                Dj = D[i]  # Use D[candidate] as Dj\n",
        "                dji = euclidean_distance(points[j], points[i])  # Distance between j and i\n",
        "                if Dj > dji:\n",
        "                    C[j] = max(Dj - dji, 0)\n",
        "                else:\n",
        "                    C[j] = 0\n",
        "            gain = sum(C.values())\n",
        "            gains.append((i, gain))  # Store the index and gain\n",
        "\n",
        "        # Find the best candidate based on the maximum gain\n",
        "        best_candidate = max(gains, key=lambda x: x[1])\n",
        "        print(f\"All gains for candidates: {gains}\")\n",
        "        print(f\"Best candidate index: {best_candidate[0]}, Point: {points[best_candidate[0]]}, Gain: {best_candidate[1]}\")\n",
        "        print('-' * 50)\n",
        "\n",
        "\n",
        "        # Step 5: Update S and U, and recompute D and E after adding the best candidate\n",
        "        if best_candidate is not None:\n",
        "            # Add the index of the best candidate to S\n",
        "            S.add(best_candidate[0])  # Add the index\n",
        "            U.remove(best_candidate[0])  # Remove the index from U\n",
        "\n",
        "            # Recompute D and E for each remaining unselected point in U\n",
        "            for j in U:\n",
        "                distances = [euclidean_distance(points[j], points[s]) for s in S]\n",
        "                D[j] = min(distances)\n",
        "                E[j] = sorted(distances)[1] if len(distances) > 1 else float('inf')\n",
        "\n",
        "        # Print updated S and U\n",
        "        print(f\"Updated S (medoids): {S}\")\n",
        "        print(f\"Updated U (remaining points): {U}\")\n",
        "        print('-' * 50)\n",
        "\n",
        "    # Now perform the SWAP phase to refine the medoids\n",
        "    # D and E initialization\n",
        "    D = np.zeros(len(points))\n",
        "    E = np.zeros(len(points))\n",
        "\n",
        "    # Initialize D and E for the unselected objects\n",
        "    for j in U:\n",
        "        distances = [euclidean_distance(points[j], points[s]) for s in S]\n",
        "        D[j] = min(distances)\n",
        "        E[j] = sorted(distances)[1] if len(distances) > 1 else float('inf')\n",
        "\n",
        "    # SWAP phase\n",
        "    while True:\n",
        "        min_Tih = float('inf')\n",
        "        best_pair = None\n",
        "\n",
        "        # Step 1: Iterate over each pair (i, h)\n",
        "        for i in S:\n",
        "            for h in U:\n",
        "                K = {}  # Contributions for each j\n",
        "\n",
        "                for j in U - {h}:\n",
        "                    dji = euclidean_distance(points[j], points[i])\n",
        "                    djh = euclidean_distance(points[j], points[h])\n",
        "\n",
        "                    if dji > D[j]:\n",
        "                        if djh >= D[j]:\n",
        "                            K[j] = 0\n",
        "                        else:  # djh < D[j]\n",
        "                            K[j] = djh - D[j]\n",
        "                    elif dji == D[j]:\n",
        "                        if djh < E[j]:\n",
        "                            K[j] = djh - D[j]\n",
        "                        else:  # djh >= E[j]\n",
        "                            K[j] = E[j] - D[j]\n",
        "\n",
        "                # Total result of the swap\n",
        "                Tih = sum(K.values())\n",
        "                print(Tih)\n",
        "                # Select the best pair (i, h) with the minimum Tih\n",
        "                if Tih < min_Tih:\n",
        "                    min_Tih = Tih\n",
        "                    best_pair = (i, h)\n",
        "\n",
        "        # Output results for this iteration\n",
        "        if best_pair is not None and min_Tih < 0:\n",
        "            i, h = best_pair\n",
        "\n",
        "            # Perform the swap\n",
        "            S.remove(i)\n",
        "            S.add(h)\n",
        "\n",
        "            # Update D and E for all objects\n",
        "            for p in U.union(S):\n",
        "                distances = [euclidean_distance(points[p], points[s]) for s in S]\n",
        "                D[p] = min(distances)\n",
        "                E[p] = sorted(distances)[1] if len(distances) > 1 else float('inf')\n",
        "\n",
        "            print(f\"Swapped medoid {i} with {h}. New S: {S}\")\n",
        "            print('-' * 50)\n",
        "        else:\n",
        "            # No beneficial swap found, exit the loop\n",
        "            break\n",
        "\n",
        "    # Final set of medoids S\n",
        "    print(f\"Final medoids after swapping: {S}\")\n",
        "    print('-' * 50)\n",
        "    return S  # Return the selected medoid indices\n",
        "\n",
        "# Specify the number of medoids k\n",
        "k = int(input())  # Change this value to your desired number of medoids\n",
        "selected_medoids = find_k_medoids(points, k)\n",
        "print(f\"Final set of medoid indices: {selected_medoids}\")\n",
        "print(f\"Medoid points: {[points[i] for i in selected_medoids]}\")\n"
      ],
      "metadata": {
        "id": "57XAJ8EHCdzf"
      },
      "execution_count": null,
      "outputs": []
    }
  ]
}