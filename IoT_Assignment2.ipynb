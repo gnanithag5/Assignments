{
  "nbformat": 4,
  "nbformat_minor": 0,
  "metadata": {
    "colab": {
      "provenance": [],
      "authorship_tag": "ABX9TyOVlli7OugLS5aXLn4ApHZS",
      "include_colab_link": true
    },
    "kernelspec": {
      "name": "python3",
      "display_name": "Python 3"
    },
    "language_info": {
      "name": "python"
    }
  },
  "cells": [
    {
      "cell_type": "markdown",
      "metadata": {
        "id": "view-in-github",
        "colab_type": "text"
      },
      "source": [
        "<a href=\"https://colab.research.google.com/github/gnanithag5/Assignments-Maters/blob/main/IoT_Assignment2.ipynb\" target=\"_parent\"><img src=\"https://colab.research.google.com/assets/colab-badge.svg\" alt=\"Open In Colab\"/></a>"
      ]
    },
    {
      "cell_type": "code",
      "source": [
        "rssi_values1=[-66.59,-63.12,-67.98]\n",
        "rssi_values2=[-71.65,-71.98,-70.80]\n",
        "rssi_values3=[-69.48,-77.30,-68.43]\n",
        "rssi_values4=[-71.09,-79.22,-72.15]\n",
        "nodeA=[]\n",
        "nodeB=[]\n",
        "nodeC=[]\n",
        "for i in range(len(rssi_values)):\n",
        "  k=0\n",
        "  if i==0:\n",
        "    for k in range(1,11):\n",
        "      nodeA.append(10**((-61.7-(rssi_values[0]+k))/20.07))\n",
        "  elif i==1:\n",
        "    for k in range(1,11):\n",
        "      nodeB.append(10**((-61.7-(rssi_values[1]+k))/20.07))\n",
        "  else:\n",
        "    for k in range(1,11):\n",
        "      nodeC.append(10**((-61.7-(rssi_values[2]+k))/20.07))\n",
        "\n",
        "\n",
        "p=3.72\n",
        "q=1.305\n",
        "r=4.367\n",
        "x1=1.635\n",
        "y1=0\n",
        "x=[]\n",
        "y=[]\n",
        "\n",
        "error=[]\n",
        "for i in nodeA:\n",
        "  for j in nodeB:\n",
        "    for k in nodeC:\n",
        "      x2=((i**2-j**2+p**2)/(2*p))\n",
        "      x.append(x2)\n",
        "      y2=(((i**2-k**2+q**2+r**2)/(2*r))-((q*x2)/(r)))\n",
        "      y.append(y2)\n",
        "      error.append(((x2-x1)**2+(y2-y1)**2)**1/2)\n",
        "print(min(error))\n",
        "\n",
        "\n",
        "\n"
      ],
      "metadata": {
        "colab": {
          "base_uri": "https://localhost:8080/"
        },
        "id": "X9WGeNUrGaEL",
        "outputId": "b537c112-b490-41b6-82df-5ba8972cdc0c"
      },
      "execution_count": null,
      "outputs": [
        {
          "output_type": "stream",
          "name": "stdout",
          "text": [
            "1.1063714856212112\n"
          ]
        }
      ]
    },
    {
      "cell_type": "code",
      "source": [
        "rssi_values1=[-66.59,-63.12,-67.98]\n",
        "rssi_values2=[-71.65,-71.98,-70.80]\n",
        "rssi_values3=[-69.48,-77.30,-68.43]\n",
        "rssi_values4=[-71.09,-79.22,-72.15]\n",
        "distance=[]\n",
        "p=3.72\n",
        "q=1.305\n",
        "r=4.367\n",
        "x1=1.635\n",
        "y1=0\n",
        "x2=3.27\n",
        "y2=1.59\n",
        "x3=1.653\n",
        "y3=2.99\n",
        "x4=-0.61\n",
        "y4=1.959\n",
        "m=[]\n",
        "error=[]\n",
        "\n",
        "for k in range(0,11):\n",
        "  for i in rssi_values3:\n",
        "    distance.append(10**((-61.7-(i+k))/20.07))\n",
        "  #print(distance)\n",
        "  x=((distance[0]**2-distance[1]**2+p**2)/(2*p))\n",
        "  y=(((distance[0]**2-distance[2]**2+q**2+r**2)/(2*r))-((q*x)/(r)))\n",
        "  #print(x)\n",
        "  #print(y)\n",
        "  error.append(((x-x3)**2+(y-y3)**2)**(1/2))\n",
        "  distance.clear()\n",
        "min_value =min(error)\n",
        "min_index =error.index(min_value)\n",
        "print(min_value)\n",
        "print(min_index)\n",
        "print(error)\n"
      ],
      "metadata": {
        "colab": {
          "base_uri": "https://localhost:8080/"
        },
        "id": "nqBiWXXNrErm",
        "outputId": "9a8df7b8-6d58-45da-89a2-7588d9219fc5"
      },
      "execution_count": null,
      "outputs": [
        {
          "output_type": "stream",
          "name": "stdout",
          "text": [
            "1.041456516468217\n",
            "9\n",
            "[3.8154006816741726, 2.9888757206967274, 2.3537018348043937, 1.8769856612235267, 1.5329833165584543, 1.2997836793743562, 1.155911550697976, 1.078827443567619, 1.0466899587929395, 1.041456516468217, 1.0504074888267672]\n"
          ]
        }
      ]
    }
  ]
}